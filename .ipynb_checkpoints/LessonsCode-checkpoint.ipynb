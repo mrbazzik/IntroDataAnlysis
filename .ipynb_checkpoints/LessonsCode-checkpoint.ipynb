{
 "cells": [
  {
   "cell_type": "code",
   "execution_count": 26,
   "metadata": {
    "collapsed": true
   },
   "outputs": [],
   "source": [
    "import unicodecsv\n",
    "def read_csv(filename):\n",
    "    with open(filename, 'rb') as f:\n",
    "        reader = unicodecsv.DictReader(f)\n",
    "        return list(reader)"
   ]
  },
  {
   "cell_type": "code",
   "execution_count": 27,
   "metadata": {
    "collapsed": true
   },
   "outputs": [],
   "source": [
    "from datetime import datetime as dt\n",
    "def parse_date(date):\n",
    "    if date == '':\n",
    "        return None\n",
    "    else:\n",
    "        return dt.strptime(date, '%Y-%m-%d')\n",
    "    \n",
    "def parse_int(i):\n",
    "    if i == '':\n",
    "        return None\n",
    "    else:\n",
    "        return int(i)\n",
    "    "
   ]
  },
  {
   "cell_type": "code",
   "execution_count": 45,
   "metadata": {
    "collapsed": false
   },
   "outputs": [
    {
     "name": "stdout",
     "output_type": "stream",
     "text": [
      "{u'status': u'canceled', u'is_udacity': u'True', u'is_canceled': u'True', u'join_date': u'2014-11-10', u'account_key': u'448', u'cancel_date': u'2015-01-14', u'days_to_cancel': u'65'}\n",
      "{u'lessons_completed': u'0.0', u'num_courses_visited': u'1.0', u'total_minutes_visited': u'11.6793745', u'projects_completed': u'0.0', u'acct': u'0', u'utc_date': u'2015-01-09'}\n",
      "{u'lesson_key': u'3176718735', u'processing_state': u'EVALUATED', u'account_key': u'256', u'assigned_rating': u'UNGRADED', u'completion_date': u'2015-01-16', u'creation_date': u'2015-01-14'}\n"
     ]
    }
   ],
   "source": [
    "#enrollments = []\n",
    "#with open('Data/enrollments.csv','rb') as f:\n",
    " #   reader = unicodecsv.DictReader(f)\n",
    "    #for row in reader:\n",
    "    #    enrollments.append(row)\n",
    "  #  enrollments = list(reader)\n",
    "enrollments = read_csv('Data/enrollments.csv')\n",
    "print enrollments[0]\n",
    "daily_engagement = read_csv('Data/daily_engagement.csv')\n",
    "print daily_engagement[0]\n",
    "project_submissions = read_csv('Data/project_submissions.csv')\n",
    "print project_submissions[0]"
   ]
  },
  {
   "cell_type": "code",
   "execution_count": 46,
   "metadata": {
    "collapsed": false
   },
   "outputs": [],
   "source": [
    "for enrollment in enrollments:\n",
    "    enrollment['cancel_date'] = parse_date(enrollment['cancel_date'])\n",
    "    enrollment['days_to_cancel'] = parse_int(enrollment['days_to_cancel'])\n",
    "    enrollment['is_canceled'] = enrollment['is_canceled'] == 'True'\n",
    "    enrollment['is_udacity'] = enrollment['is_udacity'] == 'True'\n",
    "    enrollment['join_date'] = parse_date(enrollment['join_date'])\n",
    "    \n"
   ]
  },
  {
   "cell_type": "code",
   "execution_count": 47,
   "metadata": {
    "collapsed": false,
    "scrolled": true
   },
   "outputs": [],
   "source": [
    "for engagement_record in daily_engagement:\n",
    "    engagement_record['lessons_completed'] = int(float(engagement_record['lessons_completed']))\n",
    "    engagement_record['num_courses_visited'] = int(float(engagement_record['num_courses_visited']))\n",
    "    engagement_record['projects_completed'] = int(float(engagement_record['projects_completed']))\n",
    "    engagement_record['total_minutes_visited'] = float(engagement_record['total_minutes_visited'])\n",
    "    engagement_record['utc_date'] = parse_date(engagement_record['utc_date'])\n",
    "    \n"
   ]
  },
  {
   "cell_type": "code",
   "execution_count": 48,
   "metadata": {
    "collapsed": false
   },
   "outputs": [
    {
     "name": "stdout",
     "output_type": "stream",
     "text": [
      "1640 1302\n",
      "136240 1237\n",
      "3642 743\n"
     ]
    }
   ],
   "source": [
    "def unique_number(lst, key):\n",
    "    a = set()\n",
    "    for el in lst:\n",
    "        a.add(el[key])\n",
    "    return len(list(a))\n",
    "        \n",
    "print len(enrollments), unique_number(enrollments, 'account_key')\n",
    "\n",
    "print len(daily_engagement), unique_number(daily_engagement, 'acct')\n",
    "\n",
    "print len(project_submissions), unique_number(project_submissions, 'account_key')"
   ]
  },
  {
   "cell_type": "code",
   "execution_count": 49,
   "metadata": {
    "collapsed": true
   },
   "outputs": [],
   "source": [
    "for engagement in daily_engagement:\n",
    "    engagement['account_key'] = engagement['acct']\n",
    "    del engagement['acct']"
   ]
  },
  {
   "cell_type": "code",
   "execution_count": 50,
   "metadata": {
    "collapsed": false
   },
   "outputs": [
    {
     "name": "stdout",
     "output_type": "stream",
     "text": [
      "{u'status': u'canceled', u'is_udacity': False, u'is_canceled': True, u'join_date': datetime.datetime(2014, 11, 12, 0, 0), u'account_key': u'1219', u'cancel_date': datetime.datetime(2014, 11, 12, 0, 0), u'days_to_cancel': 0}\n"
     ]
    }
   ],
   "source": [
    "engaged = set()\n",
    "for eng in daily_engagement:\n",
    "    engaged.add(eng['account_key'])\n",
    "for enroll in enrollments:\n",
    "    if enroll['account_key'] not in engaged:\n",
    "        print enroll\n",
    "        break"
   ]
  },
  {
   "cell_type": "code",
   "execution_count": 53,
   "metadata": {
    "collapsed": false
   },
   "outputs": [
    {
     "name": "stdout",
     "output_type": "stream",
     "text": [
      "{u'status': u'canceled', u'is_udacity': True, u'is_canceled': True, u'join_date': datetime.datetime(2015, 1, 10, 0, 0), u'account_key': u'1304', u'cancel_date': datetime.datetime(2015, 3, 10, 0, 0), u'days_to_cancel': 59}\n",
      "{u'status': u'canceled', u'is_udacity': True, u'is_canceled': True, u'join_date': datetime.datetime(2015, 3, 10, 0, 0), u'account_key': u'1304', u'cancel_date': datetime.datetime(2015, 6, 17, 0, 0), u'days_to_cancel': 99}\n",
      "{u'status': u'current', u'is_udacity': True, u'is_canceled': False, u'join_date': datetime.datetime(2015, 2, 25, 0, 0), u'account_key': u'1101', u'cancel_date': None, u'days_to_cancel': None}\n",
      "3\n"
     ]
    }
   ],
   "source": [
    "count = 0\n",
    "for enroll in enrollments:\n",
    "    if enroll['account_key'] not in engaged and enroll['join_date'] != enroll['cancel_date']:\n",
    "        print enroll\n",
    "        count+=1\n",
    "print count"
   ]
  },
  {
   "cell_type": "code",
   "execution_count": 55,
   "metadata": {
    "collapsed": false
   },
   "outputs": [
    {
     "name": "stdout",
     "output_type": "stream",
     "text": [
      "6\n"
     ]
    }
   ],
   "source": [
    "uaccounts = set()\n",
    "for enrol in enrollments:\n",
    "    if enrol['is_udacity']:\n",
    "        uaccounts.add(enrol['account_key'])\n",
    "print len(uaccounts)"
   ]
  },
  {
   "cell_type": "code",
   "execution_count": 56,
   "metadata": {
    "collapsed": false
   },
   "outputs": [
    {
     "data": {
      "text/plain": [
       "1622"
      ]
     },
     "execution_count": 56,
     "metadata": {},
     "output_type": "execute_result"
    }
   ],
   "source": [
    "def delete_uaccounts(lst, uacc):\n",
    "    temp = []\n",
    "    for el in lst:\n",
    "        if el['account_key'] not in uacc:\n",
    "            temp.append(el)\n",
    "    return temp\n",
    "\n",
    "enrollments = delete_uaccounts(enrollments, uaccounts)\n",
    "daly_engagement = delete_uaccounts(daily_engagement, uaccounts)\n",
    "project_submissions = delete_uaccounts(project_submissions, uaccounts)\n",
    "\n",
    "len(enrollments)"
   ]
  },
  {
   "cell_type": "code",
   "execution_count": 73,
   "metadata": {
    "collapsed": false
   },
   "outputs": [
    {
     "data": {
      "text/plain": [
       "995"
      ]
     },
     "execution_count": 73,
     "metadata": {},
     "output_type": "execute_result"
    }
   ],
   "source": [
    "paid_students = {}\n",
    "for enrol in enrollments:\n",
    "    days_to_cancel = enrol['days_to_cancel']\n",
    "    key = enrol['account_key']\n",
    "    date = enrol['join_date']\n",
    "    if days_to_cancel == None or days_to_cancel>7:\n",
    "        if key not in paid_students or paid_students[key]<date:\n",
    "            paid_students[key] = date\n",
    "len(paid_students)"
   ]
  },
  {
   "cell_type": "code",
   "execution_count": 74,
   "metadata": {
    "collapsed": false
   },
   "outputs": [
    {
     "data": {
      "text/plain": [
       "{'account_key': u'0',\n",
       " u'lessons_completed': 0,\n",
       " u'num_courses_visited': 1,\n",
       " u'projects_completed': 0,\n",
       " u'total_minutes_visited': 11.6793745,\n",
       " u'utc_date': datetime.datetime(2015, 1, 9, 0, 0)}"
      ]
     },
     "execution_count": 74,
     "metadata": {},
     "output_type": "execute_result"
    }
   ],
   "source": [
    "daily_engagement[0]\n"
   ]
  },
  {
   "cell_type": "code",
   "execution_count": 78,
   "metadata": {
    "collapsed": false
   },
   "outputs": [
    {
     "name": "stdout",
     "output_type": "stream",
     "text": [
      "6919\n"
     ]
    }
   ],
   "source": [
    "paid_engaged = []\n",
    "for eng in daily_engagement:\n",
    "    key = eng['account_key']\n",
    "    if key in paid_students:\n",
    "        delta = eng['utc_date'] - paid_students[key]\n",
    "        if delta.days<7 and delta.days>=0:\n",
    "            paid_engaged.append(eng)\n",
    "print len(paid_engaged)"
   ]
  },
  {
   "cell_type": "code",
   "execution_count": 80,
   "metadata": {
    "collapsed": true
   },
   "outputs": [],
   "source": [
    "import numpy as np\n",
    "def calc_stats(key):\n",
    "    totals = []\n",
    "    for acc, engs in engage_by_accounts.items():\n",
    "        total = 0\n",
    "        for eng in engs:\n",
    "            total+=eng[key]\n",
    "        totals.append(total)\n",
    "    print np.mean(totals)\n",
    "    print np.std(totals)\n",
    "    print np.min(totals)\n",
    "    print np.max(totals)\n",
    "    "
   ]
  },
  {
   "cell_type": "code",
   "execution_count": 79,
   "metadata": {
    "collapsed": false
   },
   "outputs": [
    {
     "name": "stdout",
     "output_type": "stream",
     "text": [
      "306.708326753\n",
      "412.996933409\n",
      "0.0\n",
      "3564.7332645\n"
     ]
    }
   ],
   "source": [
    "from collections import defaultdict\n",
    "engage_by_accounts = defaultdict(list)\n",
    "for eng in paid_engaged:\n",
    "    key = eng['account_key']\n",
    "    engage_by_accounts[key].append(eng)\n",
    "    \n",
    "#total_minutes_by_accounts = {}\n",
    "#for acc, engs in engage_by_accounts.items():\n",
    "#    total = 0\n",
    "#    for eng in engs:\n",
    "#        total+=eng['total_minutes_visited']\n",
    "#    total_minutes_by_accounts[acc] = total\n",
    "    \n",
    "#import numpy as np\n",
    "#values = total_minutes_by_accounts.values()\n",
    "#print np.mean(values)\n",
    "#print np.std(values)\n",
    "#print np.min(values)\n",
    "#print np.max(values)"
   ]
  }
 ],
 "metadata": {
  "kernelspec": {
   "display_name": "Python 2",
   "language": "python",
   "name": "python2"
  },
  "language_info": {
   "codemirror_mode": {
    "name": "ipython",
    "version": 2
   },
   "file_extension": ".py",
   "mimetype": "text/x-python",
   "name": "python",
   "nbconvert_exporter": "python",
   "pygments_lexer": "ipython2",
   "version": "2.7.10"
  }
 },
 "nbformat": 4,
 "nbformat_minor": 0
}
